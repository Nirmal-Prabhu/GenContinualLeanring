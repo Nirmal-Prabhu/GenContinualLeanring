{
 "cells": [
  {
   "cell_type": "code",
   "execution_count": 1,
   "id": "b02de9f1",
   "metadata": {
    "execution": {
     "iopub.execute_input": "2022-01-29T20:42:22.526585Z",
     "iopub.status.busy": "2022-01-29T20:42:22.517616Z",
     "iopub.status.idle": "2022-01-29T20:42:24.105658Z",
     "shell.execute_reply": "2022-01-29T20:42:24.104581Z"
    },
    "papermill": {
     "duration": 1.59958,
     "end_time": "2022-01-29T20:42:24.105842",
     "exception": false,
     "start_time": "2022-01-29T20:42:22.506262",
     "status": "completed"
    },
    "tags": []
   },
   "outputs": [],
   "source": [
    "import torch\n",
    "import torchvision\n",
    "import torchvision.transforms as transforms\n",
    "import torch.optim as optim\n",
    "import torch.nn as nn\n",
    "import torchvision.datasets as datasets\n",
    "from torchvision.datasets import ImageFolder\n",
    "from torch.utils.data import DataLoader\n",
    "from PIL import Image"
   ]
  },
  {
   "cell_type": "code",
   "execution_count": 2,
   "id": "b2a329d2",
   "metadata": {
    "execution": {
     "iopub.execute_input": "2022-01-29T20:42:24.129315Z",
     "iopub.status.busy": "2022-01-29T20:42:24.128616Z",
     "iopub.status.idle": "2022-01-29T20:42:24.132667Z",
     "shell.execute_reply": "2022-01-29T20:42:24.131992Z"
    },
    "papermill": {
     "duration": 0.020896,
     "end_time": "2022-01-29T20:42:24.132810",
     "exception": false,
     "start_time": "2022-01-29T20:42:24.111914",
     "status": "completed"
    },
    "tags": []
   },
   "outputs": [],
   "source": [
    "class Generator(nn.Module):\n",
    "  def __init__(self, z_dim, channels_img, features_g):\n",
    "    super(Generator, self).__init__()\n",
    "    self.gen = nn.Sequential(\n",
    "        #Input: N x z_dim x 1 x 1\n",
    "        self._block(z_dim, features_g*16, 4, 1, 0), # img 4 x 4\n",
    "        self._block(features_g*16, features_g*8, 4, 2, 1), # img 8x8\n",
    "        self._block(features_g*8, features_g*4, 4, 2, 1), # img 16x16\n",
    "        self._block(features_g*4, features_g*2, 4, 2, 1 ), #img 32x32\n",
    "        nn.ConvTranspose2d(features_g*2, channels_img, kernel_size=4, stride=2, padding=1), #N x channels_img x 64 x 64\n",
    "        nn.Tanh() #model aligns with normalzed images between -1 and 1\n",
    "    )\n",
    "  \n",
    "  def _block(self, in_channels, out_channels, kernel_size, stride, padding):\n",
    "    return nn.Sequential(\n",
    "        nn.ConvTranspose2d(in_channels, out_channels, kernel_size, stride, padding, bias=False),\n",
    "        nn.BatchNorm2d(out_channels),\n",
    "        nn.ReLU()\n",
    "    )\n",
    "  \n",
    "  def forward(self, x):\n",
    "    return self.gen(x)"
   ]
  },
  {
   "cell_type": "code",
   "execution_count": 3,
   "id": "49337074",
   "metadata": {
    "execution": {
     "iopub.execute_input": "2022-01-29T20:42:24.151068Z",
     "iopub.status.busy": "2022-01-29T20:42:24.150340Z",
     "iopub.status.idle": "2022-01-29T20:42:24.153134Z",
     "shell.execute_reply": "2022-01-29T20:42:24.153684Z"
    },
    "papermill": {
     "duration": 0.015752,
     "end_time": "2022-01-29T20:42:24.153884",
     "exception": false,
     "start_time": "2022-01-29T20:42:24.138132",
     "status": "completed"
    },
    "tags": []
   },
   "outputs": [],
   "source": [
    "#Hyperparameters\n",
    "device = torch.device(\"cuda\" if torch.cuda.is_available() else \"cpu\")\n",
    "lr = 1e-4 \n",
    "Z_DIM = 100\n",
    "IMG_SIZE = 64\n",
    "CHANNELS_IMG = 1\n",
    "batch_size = 64\n",
    "num_epochs = 20\n",
    "features_critic = 64\n",
    "features_gen = 64\n",
    "critic_iterations = 5\n",
    "lambda_gp = 10"
   ]
  },
  {
   "cell_type": "code",
   "execution_count": 4,
   "id": "8c5ef085",
   "metadata": {
    "_cell_guid": "b1076dfc-b9ad-4769-8c92-a6c4dae69d19",
    "_uuid": "8f2839f25d086af736a60e9eeb907d3b93b6e0e5",
    "execution": {
     "iopub.execute_input": "2022-01-29T20:42:24.173846Z",
     "iopub.status.busy": "2022-01-29T20:42:24.173125Z",
     "iopub.status.idle": "2022-01-29T20:42:25.871137Z",
     "shell.execute_reply": "2022-01-29T20:42:25.871756Z"
    },
    "papermill": {
     "duration": 1.711723,
     "end_time": "2022-01-29T20:42:25.871973",
     "exception": false,
     "start_time": "2022-01-29T20:42:24.160250",
     "status": "completed"
    },
    "tags": []
   },
   "outputs": [
    {
     "data": {
      "text/plain": [
       "Generator(\n",
       "  (gen): Sequential(\n",
       "    (0): Sequential(\n",
       "      (0): ConvTranspose2d(100, 1024, kernel_size=(4, 4), stride=(1, 1), bias=False)\n",
       "      (1): BatchNorm2d(1024, eps=1e-05, momentum=0.1, affine=True, track_running_stats=True)\n",
       "      (2): ReLU()\n",
       "    )\n",
       "    (1): Sequential(\n",
       "      (0): ConvTranspose2d(1024, 512, kernel_size=(4, 4), stride=(2, 2), padding=(1, 1), bias=False)\n",
       "      (1): BatchNorm2d(512, eps=1e-05, momentum=0.1, affine=True, track_running_stats=True)\n",
       "      (2): ReLU()\n",
       "    )\n",
       "    (2): Sequential(\n",
       "      (0): ConvTranspose2d(512, 256, kernel_size=(4, 4), stride=(2, 2), padding=(1, 1), bias=False)\n",
       "      (1): BatchNorm2d(256, eps=1e-05, momentum=0.1, affine=True, track_running_stats=True)\n",
       "      (2): ReLU()\n",
       "    )\n",
       "    (3): Sequential(\n",
       "      (0): ConvTranspose2d(256, 128, kernel_size=(4, 4), stride=(2, 2), padding=(1, 1), bias=False)\n",
       "      (1): BatchNorm2d(128, eps=1e-05, momentum=0.1, affine=True, track_running_stats=True)\n",
       "      (2): ReLU()\n",
       "    )\n",
       "    (4): ConvTranspose2d(128, 1, kernel_size=(4, 4), stride=(2, 2), padding=(1, 1))\n",
       "    (5): Tanh()\n",
       "  )\n",
       ")"
      ]
     },
     "execution_count": 4,
     "metadata": {},
     "output_type": "execute_result"
    }
   ],
   "source": [
    "output_gen = Generator(Z_DIM, CHANNELS_IMG, features_gen).to(device)\n",
    "output_gen.load_state_dict(torch.load(\"../input/final-dataset/gen_3.pth\", map_location=torch.device(\"cpu\")))\n",
    "output_gen.eval()"
   ]
  },
  {
   "cell_type": "code",
   "execution_count": 5,
   "id": "20d7c0c0",
   "metadata": {
    "execution": {
     "iopub.execute_input": "2022-01-29T20:42:25.895422Z",
     "iopub.status.busy": "2022-01-29T20:42:25.887638Z",
     "iopub.status.idle": "2022-01-29T20:46:17.077064Z",
     "shell.execute_reply": "2022-01-29T20:46:17.077638Z"
    },
    "papermill": {
     "duration": 231.198731,
     "end_time": "2022-01-29T20:46:17.077852",
     "exception": false,
     "start_time": "2022-01-29T20:42:25.879121",
     "status": "completed"
    },
    "tags": []
   },
   "outputs": [
    {
     "name": "stderr",
     "output_type": "stream",
     "text": [
      "/opt/conda/lib/python3.7/site-packages/torchvision/transforms/transforms.py:310: UserWarning: The use of the transforms.Scale transform is deprecated, please use transforms.Resize instead.\n",
      "  warnings.warn(\"The use of the transforms.Scale transform is deprecated, \" +\n"
     ]
    }
   ],
   "source": [
    "for n in range(10000):\n",
    "    output_noise = torch.randn(1, Z_DIM, 1, 1).to(device)\n",
    "    image = output_gen(output_noise).reshape(-1, 1, 64, 64)\n",
    "    torchvision.utils.save_image(image, f\"./test.png\")\n",
    "\n",
    "    resize = transforms.Compose([transforms.Scale((28,28))])\n",
    "\n",
    "    img = Image.open('./test.png')\n",
    "    resized_test = resize(img)\n",
    "    resized_test.save(f'./{n + 1}.png')"
   ]
  }
 ],
 "metadata": {
  "kernelspec": {
   "display_name": "Python 3",
   "language": "python",
   "name": "python3"
  },
  "language_info": {
   "codemirror_mode": {
    "name": "ipython",
    "version": 3
   },
   "file_extension": ".py",
   "mimetype": "text/x-python",
   "name": "python",
   "nbconvert_exporter": "python",
   "pygments_lexer": "ipython3",
   "version": "3.7.12"
  },
  "papermill": {
   "default_parameters": {},
   "duration": 245.829673,
   "end_time": "2022-01-29T20:46:17.897109",
   "environment_variables": {},
   "exception": null,
   "input_path": "__notebook__.ipynb",
   "output_path": "__notebook__.ipynb",
   "parameters": {},
   "start_time": "2022-01-29T20:42:12.067436",
   "version": "2.3.3"
  }
 },
 "nbformat": 4,
 "nbformat_minor": 5
}
