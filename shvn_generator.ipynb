{
 "cells": [
  {
   "cell_type": "code",
   "execution_count": 1,
   "id": "6ceb0d1f",
   "metadata": {
    "execution": {
     "iopub.execute_input": "2022-01-30T19:46:27.644391Z",
     "iopub.status.busy": "2022-01-30T19:46:27.643633Z",
     "iopub.status.idle": "2022-01-30T19:46:29.481331Z",
     "shell.execute_reply": "2022-01-30T19:46:29.479994Z",
     "shell.execute_reply.started": "2022-01-30T19:40:01.265274Z"
    },
    "id": "2-fK-5KbPk5O",
    "outputId": "f5f8d9d4-0ced-40e6-e500-2fe8408812aa",
    "papermill": {
     "duration": 1.861184,
     "end_time": "2022-01-30T19:46:29.481552",
     "exception": false,
     "start_time": "2022-01-30T19:46:27.620368",
     "status": "completed"
    },
    "tags": []
   },
   "outputs": [],
   "source": [
    "# %%script /Library/Frameworks/Python.framework/Versions/3.9/bin/python3\n",
    "\n",
    "import torch\n",
    "import torchvision\n",
    "import torchvision.transforms as transforms\n",
    "import torch.optim as optim\n",
    "import torch.nn as nn\n",
    "from torchvision import datasets\n",
    "from torchvision.datasets import ImageFolder\n",
    "from torch.utils.data import DataLoader, ConcatDataset\n",
    "\n",
    "def visualize_images(batch, filepath=None, save_image=False, single=False):\n",
    "    grid = torchvision.utils.make_grid(batch, nrow=8)\n",
    "    if single:\n",
    "        grid = torchvision.utils.make_grid(batch, nrow=1)\n",
    "    if save_image:\n",
    "        torchvision.utils.save_image(grid, filepath)\n",
    "    else:\n",
    "        plt.figure(figsize=(100,100))\n",
    "        plt.imshow(grid.permute(2, 2, 0))\n",
    "        plt.show()"
   ]
  },
  {
   "cell_type": "markdown",
   "id": "7ec9d81d",
   "metadata": {
    "papermill": {
     "duration": 0.013923,
     "end_time": "2022-01-30T19:46:29.510963",
     "exception": false,
     "start_time": "2022-01-30T19:46:29.497040",
     "status": "completed"
    },
    "tags": []
   },
   "source": [
    "## Initializing Models"
   ]
  },
  {
   "cell_type": "code",
   "execution_count": 2,
   "id": "e6d9fb00",
   "metadata": {
    "execution": {
     "iopub.execute_input": "2022-01-30T19:46:29.548041Z",
     "iopub.status.busy": "2022-01-30T19:46:29.547236Z",
     "iopub.status.idle": "2022-01-30T19:46:29.557623Z",
     "shell.execute_reply": "2022-01-30T19:46:29.558489Z",
     "shell.execute_reply.started": "2022-01-30T19:40:02.525276Z"
    },
    "id": "7Rqj_U-tzTCE",
    "papermill": {
     "duration": 0.033326,
     "end_time": "2022-01-30T19:46:29.558674",
     "exception": false,
     "start_time": "2022-01-30T19:46:29.525348",
     "status": "completed"
    },
    "tags": []
   },
   "outputs": [],
   "source": [
    "class Discriminator(nn.Module):\n",
    "  def __init__(self, channels_img, features_d):\n",
    "    super(Discriminator, self).__init__()\n",
    "    self.disc = nn.Sequential(\n",
    "        #Input: N x channels_img x 32 x 32\n",
    "        nn.Conv2d(channels_img, features_d, kernel_size=4, stride=2, padding=1), #16x16\n",
    "        nn.LeakyReLU(0.2),\n",
    "        self._block(features_d, features_d*2, 4, 2, 1), #8x8\n",
    "        self._block(features_d*2, features_d*4, 4, 2, 1), #8x8\n",
    "        self._block(features_d*4, features_d*8, 4, 2, 1),  #4x4\n",
    "        nn.Conv2d(features_d*8, 1, kernel_size=4, stride=2, padding=0), # 1x1 representing probability\n",
    "    )\n",
    "\n",
    "  def _block(self, in_channels, out_channels, kernel_size, stride, padding):\n",
    "    return nn.Sequential(\n",
    "        nn.Conv2d(in_channels, out_channels, kernel_size, stride, padding, bias=False),\n",
    "        nn.InstanceNorm2d(out_channels, affine=True),\n",
    "        nn.LeakyReLU(0.2)\n",
    "    )\n",
    "\n",
    "  def forward(self, x):\n",
    "    return self.disc(x)"
   ]
  },
  {
   "cell_type": "code",
   "execution_count": 3,
   "id": "ceae6a3b",
   "metadata": {
    "execution": {
     "iopub.execute_input": "2022-01-30T19:46:29.596010Z",
     "iopub.status.busy": "2022-01-30T19:46:29.595259Z",
     "iopub.status.idle": "2022-01-30T19:46:29.601369Z",
     "shell.execute_reply": "2022-01-30T19:46:29.602485Z",
     "shell.execute_reply.started": "2022-01-30T19:40:02.973608Z"
    },
    "id": "VGhQ9UTV9cmN",
    "papermill": {
     "duration": 0.029933,
     "end_time": "2022-01-30T19:46:29.602660",
     "exception": false,
     "start_time": "2022-01-30T19:46:29.572727",
     "status": "completed"
    },
    "tags": []
   },
   "outputs": [],
   "source": [
    "class Generator(nn.Module):\n",
    "  def __init__(self, z_dim, channels_img, features_g):\n",
    "    super(Generator, self).__init__()\n",
    "    self.gen = nn.Sequential(\n",
    "        #Input: N x z_dim x 1 x 1\n",
    "        self._block(z_dim, features_g*16, 4, 1, 0), # img 4 x 4\n",
    "        self._block(features_g*16, features_g*8, 4, 2, 1), # img 8x8\n",
    "        self._block(features_g*8, features_g*4, 4, 2, 1), # img 16x16\n",
    "        self._block(features_g*4, features_g*2, 4, 2, 1 ), #img 32x32\n",
    "        nn.ConvTranspose2d(features_g*2, channels_img, kernel_size=4, stride=2, padding=1), #N x channels_img x 64 x 64\n",
    "        nn.Tanh() #model aligns with normalzed images between -1 and 1\n",
    "    )\n",
    "  \n",
    "  def _block(self, in_channels, out_channels, kernel_size, stride, padding):\n",
    "    return nn.Sequential(\n",
    "        nn.ConvTranspose2d(in_channels, out_channels, kernel_size, stride, padding, bias=False),\n",
    "        nn.BatchNorm2d(out_channels),\n",
    "        nn.ReLU()\n",
    "    )\n",
    "  \n",
    "  def forward(self, x):\n",
    "    return self.gen(x)"
   ]
  },
  {
   "cell_type": "code",
   "execution_count": 4,
   "id": "16b49104",
   "metadata": {
    "execution": {
     "iopub.execute_input": "2022-01-30T19:46:29.640347Z",
     "iopub.status.busy": "2022-01-30T19:46:29.639529Z",
     "iopub.status.idle": "2022-01-30T19:46:29.643330Z",
     "shell.execute_reply": "2022-01-30T19:46:29.643908Z",
     "shell.execute_reply.started": "2022-01-30T19:40:03.412180Z"
    },
    "id": "CoQy-mnluy1H",
    "papermill": {
     "duration": 0.027539,
     "end_time": "2022-01-30T19:46:29.644083",
     "exception": false,
     "start_time": "2022-01-30T19:46:29.616544",
     "status": "completed"
    },
    "tags": []
   },
   "outputs": [],
   "source": [
    "def gradient_penalty(critic, real, fake, device=\"cpu\"):\n",
    "  batch_size, c, H, W = real.shape\n",
    "  epsilon = torch.rand((batch_size, 1, 1, 1)).repeat(1, c, H, W).to(device)\n",
    "  interpolated_images = (real * epsilon) + fake * (1 - epsilon)\n",
    "\n",
    "  mixed_scores = critic(interpolated_images)\n",
    "  gradient = torch.autograd.grad(\n",
    "      inputs = interpolated_images,\n",
    "      outputs = mixed_scores,\n",
    "      grad_outputs = torch.ones_like(mixed_scores),\n",
    "      create_graph = True,\n",
    "      retain_graph = True\n",
    "  )[0]\n",
    "\n",
    "  gradient = gradient.view(gradient.shape[0], -1)\n",
    "  gradient_norm = gradient.norm(2, dim=1)\n",
    "  gradient_penalty = torch.mean((gradient_norm - 1) ** 2)\n",
    "  return gradient_penalty"
   ]
  },
  {
   "cell_type": "code",
   "execution_count": 5,
   "id": "a24d64f9",
   "metadata": {
    "execution": {
     "iopub.execute_input": "2022-01-30T19:46:29.680072Z",
     "iopub.status.busy": "2022-01-30T19:46:29.678104Z",
     "iopub.status.idle": "2022-01-30T19:46:29.680905Z",
     "shell.execute_reply": "2022-01-30T19:46:29.681540Z",
     "shell.execute_reply.started": "2022-01-30T19:40:03.930478Z"
    },
    "papermill": {
     "duration": 0.023734,
     "end_time": "2022-01-30T19:46:29.681713",
     "exception": false,
     "start_time": "2022-01-30T19:46:29.657979",
     "status": "completed"
    },
    "tags": []
   },
   "outputs": [],
   "source": [
    "def initialize_weights(model):\n",
    "  for m in model.modules():\n",
    "    if isinstance(m, (nn.Conv2d, nn.ConvTranspose2d, nn.BatchNorm2d)):\n",
    "      nn.init.normal(m.weight.data, 0.0, 0.02)"
   ]
  },
  {
   "cell_type": "markdown",
   "id": "8e942d8d",
   "metadata": {
    "papermill": {
     "duration": 0.011949,
     "end_time": "2022-01-30T19:46:29.706844",
     "exception": false,
     "start_time": "2022-01-30T19:46:29.694895",
     "status": "completed"
    },
    "tags": []
   },
   "source": [
    "## Training"
   ]
  },
  {
   "cell_type": "code",
   "execution_count": 6,
   "id": "71ce319a",
   "metadata": {
    "execution": {
     "iopub.execute_input": "2022-01-30T19:46:29.738176Z",
     "iopub.status.busy": "2022-01-30T19:46:29.737248Z",
     "iopub.status.idle": "2022-01-30T19:46:32.922675Z",
     "shell.execute_reply": "2022-01-30T19:46:32.923259Z",
     "shell.execute_reply.started": "2022-01-30T19:40:05.221242Z"
    },
    "papermill": {
     "duration": 3.202921,
     "end_time": "2022-01-30T19:46:32.923449",
     "exception": false,
     "start_time": "2022-01-30T19:46:29.720528",
     "status": "completed"
    },
    "tags": []
   },
   "outputs": [
    {
     "name": "stderr",
     "output_type": "stream",
     "text": [
      "/opt/conda/lib/python3.7/site-packages/ipykernel_launcher.py:4: UserWarning: nn.init.normal is now deprecated in favor of nn.init.normal_.\n",
      "  after removing the cwd from sys.path.\n"
     ]
    },
    {
     "data": {
      "text/plain": [
       "Discriminator(\n",
       "  (disc): Sequential(\n",
       "    (0): Conv2d(3, 64, kernel_size=(4, 4), stride=(2, 2), padding=(1, 1))\n",
       "    (1): LeakyReLU(negative_slope=0.2)\n",
       "    (2): Sequential(\n",
       "      (0): Conv2d(64, 128, kernel_size=(4, 4), stride=(2, 2), padding=(1, 1), bias=False)\n",
       "      (1): InstanceNorm2d(128, eps=1e-05, momentum=0.1, affine=True, track_running_stats=False)\n",
       "      (2): LeakyReLU(negative_slope=0.2)\n",
       "    )\n",
       "    (3): Sequential(\n",
       "      (0): Conv2d(128, 256, kernel_size=(4, 4), stride=(2, 2), padding=(1, 1), bias=False)\n",
       "      (1): InstanceNorm2d(256, eps=1e-05, momentum=0.1, affine=True, track_running_stats=False)\n",
       "      (2): LeakyReLU(negative_slope=0.2)\n",
       "    )\n",
       "    (4): Sequential(\n",
       "      (0): Conv2d(256, 512, kernel_size=(4, 4), stride=(2, 2), padding=(1, 1), bias=False)\n",
       "      (1): InstanceNorm2d(512, eps=1e-05, momentum=0.1, affine=True, track_running_stats=False)\n",
       "      (2): LeakyReLU(negative_slope=0.2)\n",
       "    )\n",
       "    (5): Conv2d(512, 1, kernel_size=(4, 4), stride=(2, 2))\n",
       "  )\n",
       ")"
      ]
     },
     "execution_count": 6,
     "metadata": {},
     "output_type": "execute_result"
    }
   ],
   "source": [
    "#Hyperparameters\n",
    "device = torch.device(\"cuda\" if torch.cuda.is_available() else \"cpu\")\n",
    "lr = 1e-4 \n",
    "Z_DIM = 100\n",
    "batch_size = 64\n",
    "features_critic = 64\n",
    "features_gen = 64\n",
    "critic_iterations = 5\n",
    "lambda_gp = 10\n",
    "SHVN_IMG_SIZE = 64\n",
    "SHVN_CHANNELS_IMG = 3\n",
    "shvn_num_epochs = 20\n",
    "\n",
    "#Initializing the models\n",
    "shvn_gen = Generator(Z_DIM, SHVN_CHANNELS_IMG, features_gen).to(device)\n",
    "initialize_weights(shvn_gen)\n",
    "shvn_gen.train()\n",
    "\n",
    "shvn_critic = Discriminator(SHVN_CHANNELS_IMG, features_critic).to(device)\n",
    "initialize_weights(shvn_critic)\n",
    "shvn_critic.train()"
   ]
  },
  {
   "cell_type": "code",
   "execution_count": 7,
   "id": "1a098f59",
   "metadata": {
    "execution": {
     "iopub.execute_input": "2022-01-30T19:46:32.949513Z",
     "iopub.status.busy": "2022-01-30T19:46:32.948569Z",
     "iopub.status.idle": "2022-01-30T19:47:05.988256Z",
     "shell.execute_reply": "2022-01-30T19:47:05.987758Z",
     "shell.execute_reply.started": "2022-01-30T19:40:07.475530Z"
    },
    "papermill": {
     "duration": 33.055617,
     "end_time": "2022-01-30T19:47:05.988398",
     "exception": false,
     "start_time": "2022-01-30T19:46:32.932781",
     "status": "completed"
    },
    "tags": []
   },
   "outputs": [
    {
     "name": "stdout",
     "output_type": "stream",
     "text": [
      "Downloading http://ufldl.stanford.edu/housenumbers/train_32x32.mat to data/train_32x32.mat\n"
     ]
    },
    {
     "data": {
      "application/vnd.jupyter.widget-view+json": {
       "model_id": "316d14ee17dd46bc9fb68191bec05d34",
       "version_major": 2,
       "version_minor": 0
      },
      "text/plain": [
       "  0%|          | 0/182040794 [00:00<?, ?it/s]"
      ]
     },
     "metadata": {},
     "output_type": "display_data"
    }
   ],
   "source": [
    "#Normalizing the data\n",
    "transforms = transforms.Compose(\n",
    "    [\n",
    "     transforms.Resize(SHVN_IMG_SIZE),\n",
    "     transforms.ToTensor(),\n",
    "     transforms.Normalize([0.5 for _ in range(SHVN_CHANNELS_IMG)], [0.5 for _ in range(SHVN_CHANNELS_IMG)])\n",
    "     ]\n",
    ")\n",
    "    \n",
    "shvn_pre_dataset = datasets.SVHN(root='data/', split='train', download=True, transform=transforms)\n",
    "shvn_dataset = torch.utils.data.Subset(shvn_pre_dataset, range(30000))\n",
    "\n",
    "generated_mnist = ImageFolder(root = \"../input/wgan-generated-mnist/\", transform=transforms)\n",
    "dataset = ConcatDataset([shvn_dataset, generated_mnist])\n",
    "loader = DataLoader(dataset= dataset, batch_size = 64, shuffle = True)\n",
    "\n",
    "opt_shvn_critic = optim.Adam(shvn_critic.parameters(), lr=lr, betas=(0.0, 0.9))\n",
    "opt_shvn_gen = optim.Adam(shvn_gen.parameters(), lr=lr, betas=(0.0, 0.9))"
   ]
  },
  {
   "cell_type": "code",
   "execution_count": null,
   "id": "e0176865",
   "metadata": {},
   "outputs": [],
   "source": [
    "for epoch in range(shvn_num_epochs):\n",
    "  for shvn_batch_idx, (shvn_real, _) in enumerate(loader):\n",
    "    shvn_real = shvn_real.to(device)\n",
    "    shvn_new_batch_size = shvn_real.shape[0]\n",
    "    \n",
    "\n",
    "    # Training critic\n",
    "    for _ in range(critic_iterations):\n",
    "      noise = torch.randn(shvn_new_batch_size, Z_DIM, 1, 1).to(device)\n",
    "      shvn_fake = shvn_gen(noise)\n",
    "      critic_real = shvn_critic(shvn_real).reshape(-1)\n",
    "      critic_fake = shvn_critic(shvn_fake).reshape(-1)\n",
    "\n",
    "      gp = gradient_penalty(shvn_critic, shvn_real, shvn_fake, device=device)\n",
    "      loss_critic = (-(torch.mean(critic_real) - torch.mean(critic_fake)) + lambda_gp * gp)\n",
    "    \n",
    "      shvn_critic.zero_grad()\n",
    "      loss_critic.backward(retain_graph=True)\n",
    "      opt_shvn_critic.step()\n",
    "\n",
    "\n",
    "    # Training Generator min -D(G(z))\n",
    "    output = shvn_critic(shvn_fake).reshape(-1)\n",
    "    loss_gen = -(torch.mean(output))\n",
    "    shvn_gen.zero_grad()\n",
    "    loss_gen.backward()\n",
    "    opt_shvn_gen.step()\n",
    "\n",
    "    if shvn_batch_idx % 300 == 0:\n",
    "      print(f\"Epoch[{epoch+1}/{shvn_num_epochs}] \\n\"F\"Loss D: {loss_critic:.4f}, Loss G: {loss_gen:.4f}\")\n",
    "\n",
    "  save_noise = torch.randn(batch_size, Z_DIM, 1, 1).to(device)\n",
    "  sample_8x8 = shvn_gen(save_noise).reshape(-1,1,SHVN_IMG_SIZE,SHVN_IMG_SIZE)\n",
    "  filepath = (f\"./{epoch+21}.png\")\n",
    "  visualize_images(sample_8x8*0.5+0.5, filepath=filepath, save_image=True)"
   ]
  },
  {
   "cell_type": "markdown",
   "id": "f5d8570e",
   "metadata": {
    "papermill": {
     "duration": 0.028859,
     "end_time": "2022-01-30T23:47:35.929208",
     "exception": false,
     "start_time": "2022-01-30T23:47:35.900349",
     "status": "completed"
    },
    "tags": []
   },
   "source": [
    "##### Saving the Model"
   ]
  },
  {
   "cell_type": "code",
   "execution_count": 9,
   "id": "6b694290",
   "metadata": {
    "execution": {
     "iopub.execute_input": "2022-01-30T23:47:35.998314Z",
     "iopub.status.busy": "2022-01-30T23:47:35.997743Z",
     "iopub.status.idle": "2022-01-30T23:47:36.140184Z",
     "shell.execute_reply": "2022-01-30T23:47:36.139674Z"
    },
    "papermill": {
     "duration": 0.179803,
     "end_time": "2022-01-30T23:47:36.140323",
     "exception": false,
     "start_time": "2022-01-30T23:47:35.960520",
     "status": "completed"
    },
    "tags": []
   },
   "outputs": [],
   "source": [
    "torch.save(shvn_gen.state_dict(), \"./shvn_gen.pth\")\n",
    "torch.save(shvn_critic.state_dict(), \"./shvn_critic.pth\" )"
   ]
  }
 ],
 "metadata": {
  "kernelspec": {
   "display_name": "Python 3",
   "language": "python",
   "name": "python3"
  },
  "language_info": {
   "codemirror_mode": {
    "name": "ipython",
    "version": 3
   },
   "file_extension": ".py",
   "mimetype": "text/x-python",
   "name": "python",
   "nbconvert_exporter": "python",
   "pygments_lexer": "ipython3",
   "version": "3.7.12"
  },
  "papermill": {
   "default_parameters": {},
   "duration": 14478.10091,
   "end_time": "2022-01-30T23:47:37.504671",
   "environment_variables": {},
   "exception": null,
   "input_path": "__notebook__.ipynb",
   "output_path": "__notebook__.ipynb",
   "parameters": {},
   "start_time": "2022-01-30T19:46:19.403761",
   "version": "2.3.3"
  },
  "widgets": {
   "application/vnd.jupyter.widget-state+json": {
    "state": {
     "2521e77b653545098d187c45e942b11f": {
      "model_module": "@jupyter-widgets/controls",
      "model_module_version": "1.5.0",
      "model_name": "HTMLModel",
      "state": {
       "_dom_classes": [],
       "_model_module": "@jupyter-widgets/controls",
       "_model_module_version": "1.5.0",
       "_model_name": "HTMLModel",
       "_view_count": null,
       "_view_module": "@jupyter-widgets/controls",
       "_view_module_version": "1.5.0",
       "_view_name": "HTMLView",
       "description": "",
       "description_tooltip": null,
       "layout": "IPY_MODEL_fc131e17709d4653afe06a6697f502d0",
       "placeholder": "​",
       "style": "IPY_MODEL_bb414f08bb96414cb91498b3c0d00396",
       "value": ""
      }
     },
     "316d14ee17dd46bc9fb68191bec05d34": {
      "model_module": "@jupyter-widgets/controls",
      "model_module_version": "1.5.0",
      "model_name": "HBoxModel",
      "state": {
       "_dom_classes": [],
       "_model_module": "@jupyter-widgets/controls",
       "_model_module_version": "1.5.0",
       "_model_name": "HBoxModel",
       "_view_count": null,
       "_view_module": "@jupyter-widgets/controls",
       "_view_module_version": "1.5.0",
       "_view_name": "HBoxView",
       "box_style": "",
       "children": [
        "IPY_MODEL_2521e77b653545098d187c45e942b11f",
        "IPY_MODEL_f27aea1d348646f2b5b2c9682f67dc71",
        "IPY_MODEL_3e287128d5734a25b42bb8def6688cce"
       ],
       "layout": "IPY_MODEL_9a53baa972c24e7fac75c6c33a360b36"
      }
     },
     "33760cf0e99349d4ae15ec7d0c85169b": {
      "model_module": "@jupyter-widgets/base",
      "model_module_version": "1.2.0",
      "model_name": "LayoutModel",
      "state": {
       "_model_module": "@jupyter-widgets/base",
       "_model_module_version": "1.2.0",
       "_model_name": "LayoutModel",
       "_view_count": null,
       "_view_module": "@jupyter-widgets/base",
       "_view_module_version": "1.2.0",
       "_view_name": "LayoutView",
       "align_content": null,
       "align_items": null,
       "align_self": null,
       "border": null,
       "bottom": null,
       "display": null,
       "flex": null,
       "flex_flow": null,
       "grid_area": null,
       "grid_auto_columns": null,
       "grid_auto_flow": null,
       "grid_auto_rows": null,
       "grid_column": null,
       "grid_gap": null,
       "grid_row": null,
       "grid_template_areas": null,
       "grid_template_columns": null,
       "grid_template_rows": null,
       "height": null,
       "justify_content": null,
       "justify_items": null,
       "left": null,
       "margin": null,
       "max_height": null,
       "max_width": null,
       "min_height": null,
       "min_width": null,
       "object_fit": null,
       "object_position": null,
       "order": null,
       "overflow": null,
       "overflow_x": null,
       "overflow_y": null,
       "padding": null,
       "right": null,
       "top": null,
       "visibility": null,
       "width": null
      }
     },
     "3e287128d5734a25b42bb8def6688cce": {
      "model_module": "@jupyter-widgets/controls",
      "model_module_version": "1.5.0",
      "model_name": "HTMLModel",
      "state": {
       "_dom_classes": [],
       "_model_module": "@jupyter-widgets/controls",
       "_model_module_version": "1.5.0",
       "_model_name": "HTMLModel",
       "_view_count": null,
       "_view_module": "@jupyter-widgets/controls",
       "_view_module_version": "1.5.0",
       "_view_name": "HTMLView",
       "description": "",
       "description_tooltip": null,
       "layout": "IPY_MODEL_33760cf0e99349d4ae15ec7d0c85169b",
       "placeholder": "​",
       "style": "IPY_MODEL_4996176d347c42edbb418d3bc4464456",
       "value": " 182041600/? [00:03&lt;00:00, 75311538.33it/s]"
      }
     },
     "4996176d347c42edbb418d3bc4464456": {
      "model_module": "@jupyter-widgets/controls",
      "model_module_version": "1.5.0",
      "model_name": "DescriptionStyleModel",
      "state": {
       "_model_module": "@jupyter-widgets/controls",
       "_model_module_version": "1.5.0",
       "_model_name": "DescriptionStyleModel",
       "_view_count": null,
       "_view_module": "@jupyter-widgets/base",
       "_view_module_version": "1.2.0",
       "_view_name": "StyleView",
       "description_width": ""
      }
     },
     "7df568d9a4af4052b681babe57b705bc": {
      "model_module": "@jupyter-widgets/controls",
      "model_module_version": "1.5.0",
      "model_name": "ProgressStyleModel",
      "state": {
       "_model_module": "@jupyter-widgets/controls",
       "_model_module_version": "1.5.0",
       "_model_name": "ProgressStyleModel",
       "_view_count": null,
       "_view_module": "@jupyter-widgets/base",
       "_view_module_version": "1.2.0",
       "_view_name": "StyleView",
       "bar_color": null,
       "description_width": ""
      }
     },
     "9a53baa972c24e7fac75c6c33a360b36": {
      "model_module": "@jupyter-widgets/base",
      "model_module_version": "1.2.0",
      "model_name": "LayoutModel",
      "state": {
       "_model_module": "@jupyter-widgets/base",
       "_model_module_version": "1.2.0",
       "_model_name": "LayoutModel",
       "_view_count": null,
       "_view_module": "@jupyter-widgets/base",
       "_view_module_version": "1.2.0",
       "_view_name": "LayoutView",
       "align_content": null,
       "align_items": null,
       "align_self": null,
       "border": null,
       "bottom": null,
       "display": null,
       "flex": null,
       "flex_flow": null,
       "grid_area": null,
       "grid_auto_columns": null,
       "grid_auto_flow": null,
       "grid_auto_rows": null,
       "grid_column": null,
       "grid_gap": null,
       "grid_row": null,
       "grid_template_areas": null,
       "grid_template_columns": null,
       "grid_template_rows": null,
       "height": null,
       "justify_content": null,
       "justify_items": null,
       "left": null,
       "margin": null,
       "max_height": null,
       "max_width": null,
       "min_height": null,
       "min_width": null,
       "object_fit": null,
       "object_position": null,
       "order": null,
       "overflow": null,
       "overflow_x": null,
       "overflow_y": null,
       "padding": null,
       "right": null,
       "top": null,
       "visibility": null,
       "width": null
      }
     },
     "bb414f08bb96414cb91498b3c0d00396": {
      "model_module": "@jupyter-widgets/controls",
      "model_module_version": "1.5.0",
      "model_name": "DescriptionStyleModel",
      "state": {
       "_model_module": "@jupyter-widgets/controls",
       "_model_module_version": "1.5.0",
       "_model_name": "DescriptionStyleModel",
       "_view_count": null,
       "_view_module": "@jupyter-widgets/base",
       "_view_module_version": "1.2.0",
       "_view_name": "StyleView",
       "description_width": ""
      }
     },
     "c04277f1a1b44a729127c571b30efc38": {
      "model_module": "@jupyter-widgets/base",
      "model_module_version": "1.2.0",
      "model_name": "LayoutModel",
      "state": {
       "_model_module": "@jupyter-widgets/base",
       "_model_module_version": "1.2.0",
       "_model_name": "LayoutModel",
       "_view_count": null,
       "_view_module": "@jupyter-widgets/base",
       "_view_module_version": "1.2.0",
       "_view_name": "LayoutView",
       "align_content": null,
       "align_items": null,
       "align_self": null,
       "border": null,
       "bottom": null,
       "display": null,
       "flex": null,
       "flex_flow": null,
       "grid_area": null,
       "grid_auto_columns": null,
       "grid_auto_flow": null,
       "grid_auto_rows": null,
       "grid_column": null,
       "grid_gap": null,
       "grid_row": null,
       "grid_template_areas": null,
       "grid_template_columns": null,
       "grid_template_rows": null,
       "height": null,
       "justify_content": null,
       "justify_items": null,
       "left": null,
       "margin": null,
       "max_height": null,
       "max_width": null,
       "min_height": null,
       "min_width": null,
       "object_fit": null,
       "object_position": null,
       "order": null,
       "overflow": null,
       "overflow_x": null,
       "overflow_y": null,
       "padding": null,
       "right": null,
       "top": null,
       "visibility": null,
       "width": null
      }
     },
     "f27aea1d348646f2b5b2c9682f67dc71": {
      "model_module": "@jupyter-widgets/controls",
      "model_module_version": "1.5.0",
      "model_name": "FloatProgressModel",
      "state": {
       "_dom_classes": [],
       "_model_module": "@jupyter-widgets/controls",
       "_model_module_version": "1.5.0",
       "_model_name": "FloatProgressModel",
       "_view_count": null,
       "_view_module": "@jupyter-widgets/controls",
       "_view_module_version": "1.5.0",
       "_view_name": "ProgressView",
       "bar_style": "success",
       "description": "",
       "description_tooltip": null,
       "layout": "IPY_MODEL_c04277f1a1b44a729127c571b30efc38",
       "max": 182040794,
       "min": 0,
       "orientation": "horizontal",
       "style": "IPY_MODEL_7df568d9a4af4052b681babe57b705bc",
       "value": 182040794
      }
     },
     "fc131e17709d4653afe06a6697f502d0": {
      "model_module": "@jupyter-widgets/base",
      "model_module_version": "1.2.0",
      "model_name": "LayoutModel",
      "state": {
       "_model_module": "@jupyter-widgets/base",
       "_model_module_version": "1.2.0",
       "_model_name": "LayoutModel",
       "_view_count": null,
       "_view_module": "@jupyter-widgets/base",
       "_view_module_version": "1.2.0",
       "_view_name": "LayoutView",
       "align_content": null,
       "align_items": null,
       "align_self": null,
       "border": null,
       "bottom": null,
       "display": null,
       "flex": null,
       "flex_flow": null,
       "grid_area": null,
       "grid_auto_columns": null,
       "grid_auto_flow": null,
       "grid_auto_rows": null,
       "grid_column": null,
       "grid_gap": null,
       "grid_row": null,
       "grid_template_areas": null,
       "grid_template_columns": null,
       "grid_template_rows": null,
       "height": null,
       "justify_content": null,
       "justify_items": null,
       "left": null,
       "margin": null,
       "max_height": null,
       "max_width": null,
       "min_height": null,
       "min_width": null,
       "object_fit": null,
       "object_position": null,
       "order": null,
       "overflow": null,
       "overflow_x": null,
       "overflow_y": null,
       "padding": null,
       "right": null,
       "top": null,
       "visibility": null,
       "width": null
      }
     }
    },
    "version_major": 2,
    "version_minor": 0
   }
  }
 },
 "nbformat": 4,
 "nbformat_minor": 5
}
